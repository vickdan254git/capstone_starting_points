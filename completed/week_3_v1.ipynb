{
 "cells": [
  {
   "attachments": {},
   "cell_type": "markdown",
   "metadata": {},
   "source": [
    "2. [Ind] Split the training data into a data frame without the column “y”. These are the features you will use to predict the target variable “y”."
   ]
  },
  {
   "attachments": {},
   "cell_type": "markdown",
   "metadata": {},
   "source": [
    "3. [Ind] Make a one-column data frame of just the column “y” and encode it so that “yes” has the value 1 and “no” has the value 0. You will build a model to predict whether an observation is 1 or 0."
   ]
  },
  {
   "attachments": {},
   "cell_type": "markdown",
   "metadata": {},
   "source": [
    "4. [Ind] Randomly split the training data into a training and validation set so that 25% of the data is held-out for validation."
   ]
  },
  {
   "attachments": {},
   "cell_type": "markdown",
   "metadata": {},
   "source": [
    "5. [Ind] Use Pandas to read the test data into a data frame. Note that this data does not have the “y” feature value.\n",
    "\n",
    "You will provide predictions on these features to evaluate how well your model works on data that was not seen during training. Make sure that you apply the preprocessing that you did in Phase I on this data (e.g. one-hot encoding)."
   ]
  },
  {
   "attachments": {},
   "cell_type": "markdown",
   "metadata": {},
   "source": [
    "6. [Ind] Rebalance the training data so that there are equal observations in each class (equal “yes” and “no” y values).\n",
    "\n",
    "There are a few ways to do this, but we recommend using SMOTE. You should have seen in Phase I that there is a\n",
    "large class imbalance with only about 10% of observations falling into the “yes” class. This can be problematic when training ML models on the data because a na¨ıve model that always predicts the majority class can score very well — 90% accuracy in this case!"
   ]
  },
  {
   "attachments": {},
   "cell_type": "markdown",
   "metadata": {},
   "source": [
    "Fit a Logistic Regression\n",
    "The first model you will use to classify the data is an unregularized logistic regression. This is a popular model for binary classification tasks like this one, and it serves as a good baseline for a comparison against more sophisticated models. This model makes strong parametric assumptions that the log-odds of the dependent variable is a linear combination of the independent variables."
   ]
  },
  {
   "attachments": {},
   "cell_type": "markdown",
   "metadata": {},
   "source": [
    "1. [Ind] Create a logistic regression model object with no penalty. We will discuss and use penalties next week."
   ]
  },
  {
   "attachments": {},
   "cell_type": "markdown",
   "metadata": {},
   "source": [
    "2. [Ind] Fit the model using the training data."
   ]
  },
  {
   "attachments": {},
   "cell_type": "markdown",
   "metadata": {},
   "source": [
    "3. [Ind] Make predictions on the test data."
   ]
  },
  {
   "attachments": {},
   "cell_type": "markdown",
   "metadata": {},
   "source": [
    "4. [Grp] Report the accuracy of the model on the training data. Do you think that this accuracy will be similar to the accuracy on the test data? Explain your reasoning."
   ]
  },
  {
   "attachments": {},
   "cell_type": "markdown",
   "metadata": {},
   "source": [
    "5. [Grp] Now report the accuracy of the model on the validation data. Do you think that this accuracy will be similar to the accuracy on the test data? Explain your reasoning."
   ]
  },
  {
   "attachments": {},
   "cell_type": "markdown",
   "metadata": {},
   "source": [
    "6. [Grp] Write a function that takes a model, training data, and validation data and prints out a summary of the model performance on each set. At a minimum you should display accuracy and AUC-ROC, but you might want to consider including the built-in classification report. Evaluate your model with the function and add the result to your document."
   ]
  }
 ],
 "metadata": {
  "kernelspec": {
   "display_name": "Python 3",
   "language": "python",
   "name": "python3"
  },
  "language_info": {
   "codemirror_mode": {
    "name": "ipython",
    "version": 3
   },
   "file_extension": ".py",
   "mimetype": "text/x-python",
   "name": "python",
   "nbconvert_exporter": "python",
   "pygments_lexer": "ipython3",
   "version": "3.11.1"
  },
  "orig_nbformat": 4
 },
 "nbformat": 4,
 "nbformat_minor": 2
}
